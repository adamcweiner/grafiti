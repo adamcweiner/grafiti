{
 "cells": [
  {
   "cell_type": "code",
   "execution_count": 1,
   "metadata": {},
   "outputs": [
    {
     "name": "stderr",
     "output_type": "stream",
     "text": [
      "/Users/ceglian/miniforge3/envs/myenv/lib/python3.9/site-packages/tqdm/auto.py:21: TqdmWarning: IProgress not found. Please update jupyter and ipywidgets. See https://ipywidgets.readthedocs.io/en/stable/user_install.html\n",
      "  from .autonotebook import tqdm as notebook_tqdm\n"
     ]
    }
   ],
   "source": [
    "import sappy as sp\n",
    "import seaborn as sns\n",
    "import networkx as nx\n",
    "import matplotlib.pyplot as plt\n",
    "import collections\n",
    "import scanpy as sc\n",
    "import pandas\n",
    "\n",
    "import warnings\n",
    "warnings.filterwarnings('ignore')\n",
    "\n",
    "model_path = \"spectrum_model\"\n",
    "annotated_output = \"spectrum_sappy.h5ad\"\n",
    "fov_key = \"spectrum_fov_id\"\n",
    "target_key = \"status_plus\"\n",
    "retrain = True"
   ]
  },
  {
   "cell_type": "code",
   "execution_count": 3,
   "metadata": {},
   "outputs": [],
   "source": [
    "adata = sc.read(\"/Users/ceglian/GitHub/sapp2/notebooks/datasets/SPECTRUM_squidpy.h5ad\")"
   ]
  },
  {
   "cell_type": "code",
   "execution_count": 4,
   "metadata": {},
   "outputs": [
    {
     "data": {
      "text/plain": [
       "{'FBI_Non-WGD',\n",
       " 'FBI_WGD',\n",
       " 'HRD-Del_WGD',\n",
       " 'HRD-Dup_Non-WGD',\n",
       " 'HRD-Dup_WGD',\n",
       " 'Undetermined_WGD'}"
      ]
     },
     "execution_count": 4,
     "metadata": {},
     "output_type": "execute_result"
    }
   ],
   "source": [
    "status_plus = [\"{}_{}\".format(x,y) for x,y in zip(adata.obs[\"consensus_signature\"],adata.obs[\"wgd_status\"])]\n",
    "adata.obs[\"status_plus\"] = status_plus\n",
    "set(adata.obs[\"status_plus\"])"
   ]
  },
  {
   "cell_type": "code",
   "execution_count": 5,
   "metadata": {},
   "outputs": [
    {
     "name": "stdout",
     "output_type": "stream",
     "text": [
      "Upper Quadrant 39\n",
      "Peritoneum 36\n",
      "Adnexa 228\n",
      "Omentum 104\n",
      "Bowel 102\n",
      "Other 39\n"
     ]
    },
    {
     "data": {
      "text/plain": [
       "{'HRD-Dup_Non-WGD', 'HRD-Dup_WGD'}"
      ]
     },
     "execution_count": 5,
     "metadata": {},
     "output_type": "execute_result"
    }
   ],
   "source": [
    "adata = adata[adata.obs[\"status_plus\"].isin([\"HRD-Dup_Non-WGD\",\"HRD-Dup_WGD\"])]\n",
    "\n",
    "df = adata.obs\n",
    "for x in set(adata.obs[\"tumor_supersite\"]):\n",
    "    dfx = df[df[\"tumor_supersite\"] == x]\n",
    "    print(x, len(set(dfx[\"spectrum_fov_id\"])))\n",
    "\n",
    "adata = adata[adata.obs[\"tumor_supersite\"].isin([\"Adnexa\"])]\n",
    "set(adata.obs[\"status_plus\"])"
   ]
  },
  {
   "cell_type": "code",
   "execution_count": 6,
   "metadata": {},
   "outputs": [
    {
     "data": {
      "text/plain": [
       "30"
      ]
     },
     "execution_count": 6,
     "metadata": {},
     "output_type": "execute_result"
    }
   ],
   "source": [
    "df = adata.obs\n",
    "selected_fovs = []\n",
    "for sample_id in set(adata.obs[\"spectrum_sample_id\"]):\n",
    "    dfx = df[df[\"spectrum_sample_id\"]==sample_id]\n",
    "    selected_fovs += list(set(dfx[\"spectrum_fov_id\"].tolist()))[:]\n",
    "len(selected_fovs)"
   ]
  },
  {
   "cell_type": "code",
   "execution_count": null,
   "metadata": {},
   "outputs": [],
   "source": [
    "for x in set(adata.obs[\"spectrum_fov_id\"]):\n",
    "    if len(df[df[\"spectrum_fov_id\"] == x].index) > 5000:\n",
    "        "
   ]
  },
  {
   "cell_type": "code",
   "execution_count": null,
   "metadata": {},
   "outputs": [],
   "source": [
    "gae = sp.ml.GAE(adata,layers=[100,100], lr=0.01)\n",
    "if not retrain:\n",
    "    gae.load(model_path)"
   ]
  }
 ],
 "metadata": {
  "kernelspec": {
   "display_name": "Python 3",
   "language": "python",
   "name": "python3"
  },
  "language_info": {
   "codemirror_mode": {
    "name": "ipython",
    "version": 3
   },
   "file_extension": ".py",
   "mimetype": "text/x-python",
   "name": "python",
   "nbconvert_exporter": "python",
   "pygments_lexer": "ipython3",
   "version": "3.9.18"
  }
 },
 "nbformat": 4,
 "nbformat_minor": 2
}
